{
 "cells": [
  {
   "cell_type": "markdown",
   "id": "95ef2e01-a81c-439f-945d-2183fc222c59",
   "metadata": {},
   "source": [
    "Q1. Explain Class and Object with respect to Object-Oriented Programming. Give a suitable example."
   ]
  },
  {
   "cell_type": "markdown",
   "id": "2736f728-fd04-4fe3-b1dc-f77846d0a5e8",
   "metadata": {},
   "source": [
    "Ans:-\n",
    "Object − Objects have states and behaviors. Example: A dog has states - color, name, breed as well as behaviors – wagging the tail, barking, eating. An object is an instance of a class. Class − A class can be defined as a template/blueprint that describes the behavior/state that the object of its type support."
   ]
  },
  {
   "cell_type": "markdown",
   "id": "d0d20721-bd1a-4013-bc7b-3fe1c6ae2f78",
   "metadata": {},
   "source": [
    "Q2. Name the four pillars of OOPs."
   ]
  },
  {
   "cell_type": "markdown",
   "id": "a8060e21-25ff-4068-a859-a4c1581669b9",
   "metadata": {},
   "source": [
    "Ans:- \n",
    "1. abstraction\n",
    "2. encapsulation\n",
    "3. inheritance\n",
    "4. polymorphism"
   ]
  },
  {
   "cell_type": "markdown",
   "id": "528d4f0e-a2fd-4621-afed-8f7a7cb3d78b",
   "metadata": {},
   "source": [
    "Q3. Explain why the __init__() function is used. Give a suitable example."
   ]
  },
  {
   "cell_type": "markdown",
   "id": "ad73224f-5bb4-4ae2-964d-227c29ddd115",
   "metadata": {},
   "source": [
    "Ans:-  __init__ is a special python method that runs whenever a new object is created. These types of functions are used to initialize the attributes of that class, E.g., if the class is Person, then the attributes will be name, age, etc."
   ]
  },
  {
   "cell_type": "markdown",
   "id": "424bcc80-64e6-463d-9743-4d3e58d1aaa3",
   "metadata": {},
   "source": [
    "Q4. Why self is used in OOPs?"
   ]
  },
  {
   "cell_type": "markdown",
   "id": "05406507-ece3-40e3-bc25-595df87caf0b",
   "metadata": {},
   "source": [
    "Ans:- self represents the instance of the class. By using the “self” we can access the attributes and methods of the class in python. It binds the attributes with the given arguments. The reason you need to use self. is because Python does not use the @ syntax to refer to instance attributes."
   ]
  },
  {
   "cell_type": "code",
   "execution_count": null,
   "id": "3a5d622c-ecee-444e-bae4-787b8dd14f2d",
   "metadata": {},
   "outputs": [],
   "source": []
  }
 ],
 "metadata": {
  "kernelspec": {
   "display_name": "Python 3 (ipykernel)",
   "language": "python",
   "name": "python3"
  },
  "language_info": {
   "codemirror_mode": {
    "name": "ipython",
    "version": 3
   },
   "file_extension": ".py",
   "mimetype": "text/x-python",
   "name": "python",
   "nbconvert_exporter": "python",
   "pygments_lexer": "ipython3",
   "version": "3.10.8"
  }
 },
 "nbformat": 4,
 "nbformat_minor": 5
}
